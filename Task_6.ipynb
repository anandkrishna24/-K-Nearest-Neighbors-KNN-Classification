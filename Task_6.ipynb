{
  "nbformat": 4,
  "nbformat_minor": 0,
  "metadata": {
    "colab": {
      "provenance": []
    },
    "kernelspec": {
      "name": "python3",
      "display_name": "Python 3"
    },
    "language_info": {
      "name": "python"
    }
  },
  "cells": [
    {
      "cell_type": "code",
      "execution_count": 2,
      "metadata": {
        "colab": {
          "base_uri": "https://localhost:8080/",
          "height": 1000
        },
        "id": "tTS-aHx4Awfk",
        "outputId": "ee707482-31b3-40e9-f562-59d31b148a4e"
      },
      "outputs": [
        {
          "output_type": "stream",
          "name": "stdout",
          "text": [
            "Feature Names: ['alcohol', 'malic_acid', 'ash', 'alcalinity_of_ash', 'magnesium', 'total_phenols', 'flavanoids', 'nonflavanoid_phenols', 'proanthocyanins', 'color_intensity', 'hue', 'od280/od315_of_diluted_wines', 'proline']\n",
            "Target Classes: ['class_0' 'class_1' 'class_2']\n",
            "\n",
            "Evaluating different values of K:\n",
            "K = 1 --> Accuracy = 0.9444\n",
            "K = 2 --> Accuracy = 0.9444\n",
            "K = 3 --> Accuracy = 0.9444\n",
            "K = 4 --> Accuracy = 0.9444\n",
            "K = 5 --> Accuracy = 0.9444\n",
            "K = 6 --> Accuracy = 0.9444\n",
            "K = 7 --> Accuracy = 0.9444\n",
            "K = 8 --> Accuracy = 0.9444\n",
            "K = 9 --> Accuracy = 0.9444\n",
            "K = 10 --> Accuracy = 0.9444\n",
            "\n",
            "Final Model Evaluation with K = 3\n",
            "Accuracy: 0.9444444444444444\n",
            "\n",
            "Classification Report:\n",
            "              precision    recall  f1-score   support\n",
            "\n",
            "     class_0       0.93      1.00      0.97        14\n",
            "     class_1       1.00      0.86      0.92        14\n",
            "     class_2       0.89      1.00      0.94         8\n",
            "\n",
            "    accuracy                           0.94        36\n",
            "   macro avg       0.94      0.95      0.94        36\n",
            "weighted avg       0.95      0.94      0.94        36\n",
            "\n"
          ]
        },
        {
          "output_type": "display_data",
          "data": {
            "text/plain": [
              "<Figure size 600x500 with 2 Axes>"
            ],
            "image/png": "[encoded data removed]"
          },
          "metadata": {}
        }
      ],
      "source": [
        "# Task 6 – KNN Classification using Wine Dataset\n",
        "\n",
        "# Import required libraries\n",
        "import pandas as pd\n",
        "import numpy as np\n",
        "import matplotlib.pyplot as plt\n",
        "from sklearn.datasets import load_wine\n",
        "from sklearn.model_selection import train_test_split\n",
        "from sklearn.preprocessing import StandardScaler\n",
        "from sklearn.neighbors import KNeighborsClassifier\n",
        "from sklearn.metrics import accuracy_score, confusion_matrix, classification_report\n",
        "import seaborn as sns\n",
        "\n",
        "# Load dataset\n",
        "wine = load_wine()\n",
        "X = wine.data\n",
        "y = wine.target\n",
        "feature_names = wine.feature_names\n",
        "target_names = wine.target_names\n",
        "\n",
        "# Explore basic structure\n",
        "print(\"Feature Names:\", feature_names)\n",
        "print(\"Target Classes:\", target_names)\n",
        "\n",
        "# Normalize features\n",
        "scaler = StandardScaler()\n",
        "X_scaled = scaler.fit_transform(X)\n",
        "\n",
        "# Train/test split\n",
        "X_train, X_test, y_train, y_test = train_test_split(\n",
        "    X_scaled, y, test_size=0.2, random_state=42\n",
        ")\n",
        "\n",
        "# Try different values of K and evaluate accuracy\n",
        "print(\"\\nEvaluating different values of K:\")\n",
        "for k in range(1, 11):\n",
        "    knn = KNeighborsClassifier(n_neighbors=k)\n",
        "    knn.fit(X_train, y_train)\n",
        "    y_pred = knn.predict(X_test)\n",
        "    acc = accuracy_score(y_test, y_pred)\n",
        "    print(f\"K = {k} --> Accuracy = {acc:.4f}\")\n",
        "\n",
        "# Final model with best K (example: 3)\n",
        "best_k = 3\n",
        "knn_final = KNeighborsClassifier(n_neighbors=best_k)\n",
        "knn_final.fit(X_train, y_train)\n",
        "y_pred_final = knn_final.predict(X_test)\n",
        "\n",
        "# Evaluation\n",
        "print(f\"\\nFinal Model Evaluation with K = {best_k}\")\n",
        "print(\"Accuracy:\", accuracy_score(y_test, y_pred_final))\n",
        "print(\"\\nClassification Report:\")\n",
        "print(classification_report(y_test, y_pred_final, target_names=target_names))\n",
        "\n",
        "# Confusion matrix\n",
        "cm = confusion_matrix(y_test, y_pred_final)\n",
        "plt.figure(figsize=(6,5))\n",
        "sns.heatmap(cm, annot=True, cmap=\"Blues\", fmt=\"d\", xticklabels=target_names, yticklabels=target_names)\n",
        "plt.title(\"Confusion Matrix\")\n",
        "plt.xlabel(\"Predicted\")\n",
        "plt.ylabel(\"Actual\")\n",
        "plt.show()\n"
      ]
    },
    {
      "cell_type": "code",
      "source": [],
      "metadata": {
        "id": "IxAGDQhyA2Qt"
      },
      "execution_count": null,
      "outputs": []
    }
  ]
}